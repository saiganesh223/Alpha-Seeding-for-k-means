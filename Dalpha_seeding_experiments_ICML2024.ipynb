{
 "cells": [
  {
   "cell_type": "markdown",
   "id": "16681a1f",
   "metadata": {},
   "source": [
    "## Experiments with D$^\\alpha$ seeding for $k$-means++"
   ]
  },
  {
   "cell_type": "markdown",
   "id": "590acf3a",
   "metadata": {},
   "source": [
    "### Imports"
   ]
  },
  {
   "cell_type": "code",
   "execution_count": null,
   "id": "e28787ed",
   "metadata": {},
   "outputs": [],
   "source": [
    "import numpy as np\n",
    "import scipy as sp\n",
    "import itertools\n",
    "import math\n",
    "import matplotlib.pyplot as plt"
   ]
  },
  {
   "cell_type": "markdown",
   "id": "77aab73b",
   "metadata": {},
   "source": [
    "### Function Definitions"
   ]
  },
  {
   "cell_type": "code",
   "execution_count": null,
   "id": "430c29bd",
   "metadata": {},
   "outputs": [],
   "source": [
    "def sampleMixdiffGauss(k,d,n,MU,I,sigma_list): #Sample from a balanced mixture of k-Gaussians with given mean and covariance of the form sigma^2I\n",
    "    X=np.zeros((n,d))\n",
    "    for i in range(n):\n",
    "        gauss_no=np.random.randint(k)\n",
    "        X[i,:]=np.random.multivariate_normal(MU[gauss_no,:],sigma_list[gauss_no]*I)\n",
    "    return X       "
   ]
  },
  {
   "cell_type": "code",
   "execution_count": null,
   "id": "d97d7dbe-c8f8-48d6-be0c-7e01e40b7be0",
   "metadata": {},
   "outputs": [],
   "source": [
    "def samplenonUnifMixdiffGauss(k,d,n,MU,I,sigma_list,prob_list): #Sample from a unbalanced mixture of k-Gaussians with given mean and covariance of the form sigma^2I\n",
    "    X=np.zeros((n,d))\n",
    "    for i in range(n):\n",
    "        #gauss_no=np.random.randint(k)\n",
    "        #probabilities = [0.2, 0.5, 0.3]\n",
    "        list_of_dist= list(range(k))\n",
    "        gauss_no=np.random.choice(list_of_dist, 1, p=prob_list)\n",
    "        X[i,:]=np.random.multivariate_normal(MU[gauss_no[0],:],sigma_list[gauss_no[0]]*I)\n",
    "    return X  "
   ]
  },
  {
   "cell_type": "code",
   "execution_count": null,
   "id": "c236c2f4-a987-4229-975f-9e4e4ab2874a",
   "metadata": {},
   "outputs": [],
   "source": [
    "def sampleMixStudentt(k,d,n,MU,I,sigma_list,df): #Sample from a balanced mixture of k-Student-t Distributions with given mean and covariance of the form sigma^2I\n",
    "    X=np.zeros((n,d))\n",
    "    for i in range(n):\n",
    "        gauss_no=np.random.randint(k)\n",
    "        Z=sp.stats.multivariate_t(MU[gauss_no,:],sigma_list[gauss_no]*I,df)\n",
    "        X[i,:]=Z.rvs()\n",
    "    return X "
   ]
  },
  {
   "cell_type": "code",
   "execution_count": null,
   "id": "3363e4e7",
   "metadata": {},
   "outputs": [],
   "source": [
    "def choosekCenters(X,alpha,k,d): #alpha >=2, seeding step\n",
    "    T=np.zeros((k,d)) #To store centers\n",
    "    nprime = np.size(X,0)\n",
    "    n=np.shape(X)[0]\n",
    "    Imd_Dist_center=np.zeros((k,nprime))\n",
    "    center0=np.random.randint(n)\n",
    "    T[0,:]=X[center0,:]\n",
    "    Imd_Dist_center=np.zeros((k,nprime)) #Stores the best cost row by row\n",
    "    alpha_cost_0=(np.linalg.norm(X-T[0,:],axis=1))**(alpha/2)\n",
    "    Imd_Dist_center[0,:]=alpha_cost_0\n",
    "    for j in range(1,k):\n",
    "        #Imd_Prob_center=np.amin(Imd_Dist_center,axis=0)\n",
    "        rand_vals =np.random.uniform(size=1) * np.sum(Imd_Dist_center[j-1,:])\n",
    "        random_center_idx = np.searchsorted(np.cumsum(Imd_Dist_center[j-1,:]), rand_vals)\n",
    "        random_center=X[random_center_idx[0],:]\n",
    "        T[j,:]=random_center\n",
    "        new_alpha_cost=np.zeros((j+1,nprime))\n",
    "        for l in range(j+1):\n",
    "          new_alpha_cost[l,:]=(np.linalg.norm(X-T[l,:],axis=1))**(alpha/2)\n",
    "        Imd_Dist_center[j,:]=np.amin(new_alpha_cost,axis=0)\n",
    "    return T"
   ]
  },
  {
   "cell_type": "code",
   "execution_count": null,
   "id": "d65033bf",
   "metadata": {},
   "outputs": [],
   "source": [
    "def assignclusterlabels(X,T,k,d):\n",
    "    nprime=np.size(X,0)\n",
    "    Labels=np.zeros(nprime)\n",
    "    Imd_Dist_center=np.zeros((k,nprime))\n",
    "    for j in range(k):\n",
    "        Imd_Dist_center[j,:]=(np.linalg.norm(X-T[j,:],axis=1))    \n",
    "    Labels=np.argmin(Imd_Dist_center, axis=0)\n",
    "    Min_Dist_center=np.amin(Imd_Dist_center, axis=0)\n",
    "    return Labels, Min_Dist_center"
   ]
  },
  {
   "cell_type": "code",
   "execution_count": null,
   "id": "db86227d",
   "metadata": {},
   "outputs": [],
   "source": [
    "def Lloydsuntilconv(X,C,Min_Dist_Center,k,MaxIter,d,epsilon): #C is labels after seeding, MaxIter is number of iterations to run the Llyods step\n",
    "    Lab=C\n",
    "    flag = 0\n",
    "    i=0\n",
    "    nprime=np.shape(X)[0]\n",
    "    Old_Min_Dist_Center=np.sum(Min_Dist_Center)\n",
    "    while(i < MaxIter and flag==0):\n",
    "        \n",
    "        Centroid=np.zeros((k,d))\n",
    "        Imd_Dist_center=np.zeros((k,nprime))\n",
    "        for j in range(k):\n",
    "            temp_arr = X[Lab==j]\n",
    "            temp_centroid= np.mean(temp_arr, axis=0)\n",
    "            Centroid[j,:]=temp_centroid\n",
    "            Imd_Dist_center[j,:]=(np.linalg.norm(X-temp_centroid,axis=1)) \n",
    "        NewLabels=assignclusterlabels(X,Centroid,k,d)[0]\n",
    "        New_Min_Dist_center=np.amin(Imd_Dist_center, axis=0)\n",
    "        Lab=NewLabels\n",
    "        if(np.abs(Old_Min_Dist_Center - np.sum(New_Min_Dist_center)) <= epsilon):\n",
    "            flag=1\n",
    "        else:\n",
    "            Old_Min_Dist_Center=np.sum(New_Min_Dist_center)\n",
    "        i+=1        \n",
    "    return NewLabels, New_Min_Dist_center, i"
   ]
  },
  {
   "cell_type": "markdown",
   "id": "2cd225c0",
   "metadata": {},
   "source": [
    "### Global Variables"
   ]
  },
  {
   "cell_type": "code",
   "execution_count": null,
   "id": "c56ceec4",
   "metadata": {},
   "outputs": [],
   "source": [
    "MaxIter =10000 #For no of Lloyds iterations\n",
    "epsilon=0.001 #For Lloyds convergence tolerance.\n",
    "alpha_list=np.arange(2,42,4) #list of alpha_values\n",
    "npoints=1000 #Total no of points to be generated from the distributions\n",
    "N=5000 #No of times to run the seeding algorithm. The average performance over these N iterations is then reported.\n",
    "DELTA= 50 #Separation between two clusters"
   ]
  },
  {
   "cell_type": "markdown",
   "id": "ec61f2b1",
   "metadata": {},
   "source": [
    "### Instances"
   ]
  },
  {
   "cell_type": "markdown",
   "id": "3bbe39b4",
   "metadata": {},
   "source": [
    "1) $I_1$: A mixture of $8$ unbalanced Gaussians with the centers/means of the Gaussians placed on the corners of a cube with edge length of $2\\Delta=100$ (default). All the covariances are identity matrices (in $d=3$).\\\n",
    "2) $I_2$: A mixture of $4$ unbalanced Gaussians with the centers/means of the Gaussians placed on the corners of a square with edge length of $2\\Delta=100$ (default). All the covariances are identity matrices (in $d=2$).\\\n",
    "1) $I_3$: A mixture of $4$ balanced Gaussians with the centers/means of the Gaussians placed on the corners of a square with edge length of $2\\Delta=100$ (default). All the covariances are identity matrices (in $d=2$).\\\n",
    "2) $I_4$: A mixture of $4$ balanced Gaussians with the centers/means of the Gaussians placed on the corners of a square with edge length of $2\\Delta=100$ (default). All the covariances are identity matrices (in $d=2$), except one that has a covariance $\\sigma^2I$, with $\\sigma^2=400$.\n",
    "5) $I_5$: A mixture of $8$ balanced Gaussians with the centers/means of the Gaussians placed on the corners of a cube with edge length of $2\\Delta=100$ (default). All the covariances are identity matrices (in $d=3$).\\\n",
    "6) $I_6$: A mixture of $8$ balanced Gaussians with the centers/means of the Gaussians placed on the corners of a cube with edge length of $2\\Delta=100$ (default). All the covariances are identity matrices (in $d=3$), except one that has a covariance $\\sigma^2I$, with $\\sigma^2=800$.\\\n",
    "7) $I_{7a},\\ldots I_{7d}$: A mixture of $4$ balanced bivariate student-t distributions (see Figure \\ref{fig:studenttpdf}), with different degrees of freedom, $\\nu = \\{1.6,2,5,10\\}$, where the location parameter is centered on the corners of a square with edge length of $2\\Delta=100$ (default).\n",
    "\n",
    "Note 1: In all cases, we select the centers using $D^{\\alpha}$-sampling for different $\\alpha >= 2$. However, we do not run any additional steps of Llyods. \\\n",
    "Note 2: The k-means cost of the clustering is stored in the variable kMeansCost_I*_BL and kMeansCost_I*_AL, to represent the k-means cost of a clustering on an instance $I_*$ before Lloyds and after Lloyds respectively.\\\n",
    "Note 3: Increasing the value of $\\Delta$ or $\\alpha$ by a large amount may lead to overflow errors."
   ]
  },
  {
   "cell_type": "markdown",
   "id": "89ad9a62",
   "metadata": {},
   "source": [
    "### Run $k$-means ++ on $I_1$"
   ]
  },
  {
   "cell_type": "code",
   "execution_count": null,
   "id": "140c2b55",
   "metadata": {},
   "outputs": [],
   "source": [
    "### Instances\n",
    "k = 8 #No of clusters\n",
    "d=3 #Dimension where the points live\n",
    "MU=np.zeros((k,d))\n",
    "MU[0,:]=[-DELTA,DELTA,DELTA]\n",
    "MU[1,:]=[-DELTA,DELTA,-DELTA]\n",
    "MU[2,:]=[DELTA,DELTA,DELTA]\n",
    "MU[3,:]=[DELTA,DELTA,-DELTA]\n",
    "MU[4,:]=[DELTA,-DELTA,DELTA]\n",
    "MU[5,:]=[DELTA,-DELTA,-DELTA]\n",
    "MU[6,:]=[-DELTA,-DELTA,DELTA]\n",
    "MU[7,:]=[-DELTA,-DELTA,-DELTA]\n",
    "I=np.identity(d)\n",
    "sigma_squared_list=[1,1,1,1,1,1,1,1]\n",
    "prob_list=[0.125,0.125,0.125,0.125,0.125,0.125,0.24,0.01]"
   ]
  },
  {
   "cell_type": "code",
   "execution_count": null,
   "id": "d953836e",
   "metadata": {},
   "outputs": [],
   "source": [
    "XI1=samplenonUnifMixdiffGauss(k,d,npoints,MU,I,sigma_squared_list,prob_list)"
   ]
  },
  {
   "cell_type": "code",
   "execution_count": null,
   "id": "ebcd3fed",
   "metadata": {},
   "outputs": [],
   "source": [
    "#Here we calculate the k-means cost as a function of alpha.\n",
    "A=len(alpha_list)\n",
    "kMeansCost_I1_BL=np.zeros((A,N))\n",
    "kMeansCost_I1_AL=np.zeros((A,N))\n",
    "TimetoConv_I1=np.zeros((A,N))\n",
    "for a in range(A):\n",
    "    for m in range(N):\n",
    "        T= choosekCenters(XI1,alpha_list[a],k,d)\n",
    "        Old_Min_dist_center=assignclusterlabels(XI1,T,k,d)[1]\n",
    "        Old_Lab=assignclusterlabels(XI1,T,k,d)[0]\n",
    "        FinLabels, Min_dist_center, TimetoConv_I1[a,m]= Lloydsuntilconv(XI1,Old_Lab,Old_Min_dist_center,k,MaxIter,d,epsilon)\n",
    "        kMeansCost_I1_AL[a,m]=np.sum(Min_dist_center)\n",
    "        kMeansCost_I1_BL[a,m]=np.sum(Old_Min_dist_center)"
   ]
  },
  {
   "cell_type": "code",
   "execution_count": null,
   "id": "5f100031",
   "metadata": {},
   "outputs": [],
   "source": [
    "#Find the average cost \n",
    "kMeansCost_I1_avg_AL=np.nanmean(kMeansCost_I1_AL,axis=1)\n",
    "kMeansCost_I1_avg_BL=np.nanmean(kMeansCost_I1_BL,axis=1)"
   ]
  },
  {
   "cell_type": "code",
   "execution_count": null,
   "id": "0c0360a4",
   "metadata": {},
   "outputs": [],
   "source": [
    "fig = plt.figure(dpi=100)\n",
    "ax  = fig.add_subplot(111)\n",
    "ax.plot(alpha_list, kMeansCost_I1_avg_BL, label=\"Without Lloyds\", c='b',linewidth=2.0, linestyle='solid')\n",
    "ax.plot(alpha_list, kMeansCost_I1_avg_AL, label=\"With Lloyds\", c='b',linewidth=2.0, linestyle='-.')\n",
    "\n",
    "plt.xlabel(r'$\\alpha$',fontsize=20)\n",
    "plt.ylabel('k-means cost',fontsize=20)\n",
    "plt.xticks(alpha_list)\n",
    "plt.legend()\n",
    "fig.savefig('I1withandwoLloyds.eps', format='eps',bbox_inches = \"tight\")\n",
    "plt.show()\n",
    "\n"
   ]
  },
  {
   "cell_type": "code",
   "execution_count": null,
   "id": "3d926bf4",
   "metadata": {},
   "outputs": [],
   "source": [
    "fig = plt.figure(dpi=100)\n",
    "ax  = fig.add_subplot(111)\n",
    "ax.plot(alpha_list, kMeansCost_I1_avg_BL, label=\"Without Lloyds\", c='b',linewidth=2.0, linestyle='solid')\n",
    "#ax.plot(alpha_list, kMeansCost_I1_avg_AL, label=\"With Lloyds\", c='b',linewidth=2.0, linestyle='-.')\n",
    "\n",
    "plt.xlabel(r'$\\alpha$',fontsize=20)\n",
    "plt.ylabel('k-means cost',fontsize=20)\n",
    "plt.xticks(alpha_list)\n",
    "fig.savefig('I1woLloyds.eps', format='eps',bbox_inches = \"tight\")\n",
    "plt.show()"
   ]
  },
  {
   "cell_type": "markdown",
   "id": "a5594800",
   "metadata": {},
   "source": [
    "### Run $k$-means ++ on $I_2$"
   ]
  },
  {
   "cell_type": "code",
   "execution_count": null,
   "id": "18c70d20",
   "metadata": {},
   "outputs": [],
   "source": [
    "k = 4 #No of clusters\n",
    "d=2 #Dimension where the points live\n",
    "MU=np.zeros((k,d))\n",
    "MU[0,:]=[-DELTA,DELTA]\n",
    "MU[1,:]=[DELTA,DELTA]\n",
    "MU[2,:]=[DELTA,-DELTA]\n",
    "MU[3,:]=[-DELTA,-DELTA]\n",
    "I=np.identity(d)\n",
    "sigma_squared_list=[1,1,1,1]\n",
    "prob_list=[0.25,0.25,0.49,0.01]"
   ]
  },
  {
   "cell_type": "code",
   "execution_count": null,
   "id": "ea897f18",
   "metadata": {},
   "outputs": [],
   "source": [
    "XI2=samplenonUnifMixdiffGauss(k,d,npoints,MU,I,sigma_squared_list,prob_list)"
   ]
  },
  {
   "cell_type": "code",
   "execution_count": null,
   "id": "ffaf5789",
   "metadata": {},
   "outputs": [],
   "source": [
    "#Here we calculate the k-means cost as a function of alpha.\n",
    "A=len(alpha_list)\n",
    "kMeansCost_I2_BL=np.zeros((A,N))\n",
    "kMeansCost_I2_AL=np.zeros((A,N))\n",
    "TimetoConv_I2=np.zeros((A,N))\n",
    "for a in range(A):\n",
    "    for m in range(N):\n",
    "        T= choosekCenters(XI2,alpha_list[a],k,d)\n",
    "        Old_Min_dist_center=assignclusterlabels(XI2,T,k,d)[1]\n",
    "        Old_Lab=assignclusterlabels(XI2,T,k,d)[0]\n",
    "        FinLabels, Min_dist_center, TimetoConv_I2[a,m]= Lloydsuntilconv(XI2,Old_Lab,Old_Min_dist_center,k,MaxIter,d,epsilon)\n",
    "        kMeansCost_I2_AL[a,m]=np.sum(Min_dist_center) \n",
    "        kMeansCost_I2_BL[a,m]=np.sum(Old_Min_dist_center) "
   ]
  },
  {
   "cell_type": "code",
   "execution_count": null,
   "id": "7b144d9e",
   "metadata": {},
   "outputs": [],
   "source": [
    "#Find the average cost \n",
    "kMeansCost_I2_avg_AL=np.nanmean(kMeansCost_I2_AL,axis=1)\n",
    "kMeansCost_I2_avg_BL=np.nanmean(kMeansCost_I2_BL,axis=1)"
   ]
  },
  {
   "cell_type": "code",
   "execution_count": null,
   "id": "03d44b5b",
   "metadata": {},
   "outputs": [],
   "source": [
    "fig = plt.figure(dpi=100)\n",
    "ax  = fig.add_subplot(111)\n",
    "ax.plot(alpha_list, kMeansCost_I2_avg_BL, label=\"Without Lloyds\", c='b',linewidth=2.0, linestyle='solid')\n",
    "ax.plot(alpha_list, kMeansCost_I2_avg_AL, label=\"With Lloyds\", c='b',linewidth=2.0, linestyle='-.')\n",
    "\n",
    "plt.xlabel(r'$\\alpha$',fontsize=20)\n",
    "plt.ylabel('k-means cost',fontsize=20)\n",
    "plt.xticks(alpha_list)\n",
    "plt.legend()\n",
    "fig.savefig('I2withandwoLloyds.eps', format='eps',bbox_inches = \"tight\")\n",
    "plt.show()\n",
    "\n",
    "\n"
   ]
  },
  {
   "cell_type": "code",
   "execution_count": null,
   "id": "d3f4eb8f",
   "metadata": {},
   "outputs": [],
   "source": [
    "fig = plt.figure(dpi=100)\n",
    "ax  = fig.add_subplot(111)\n",
    "ax.plot(alpha_list, kMeansCost_I2_avg_BL, label=\"Without Lloyds\", c='b',linewidth=2.0, linestyle='solid')\n",
    "#ax.plot(alpha_list, kMeansCost_I1_avg_AL, label=\"With Lloyds\", c='b',linewidth=2.0, linestyle='-.')\n",
    "\n",
    "plt.xlabel(r'$\\alpha$',fontsize=20)\n",
    "plt.ylabel('k-means cost',fontsize=20)\n",
    "plt.xticks(alpha_list)\n",
    "fig.savefig('I2woLloyds.eps', format='eps',bbox_inches = \"tight\")\n",
    "plt.show()"
   ]
  },
  {
   "cell_type": "markdown",
   "id": "8d7aa4b1",
   "metadata": {},
   "source": [
    "### Run $k$-means ++ on $I_3$"
   ]
  },
  {
   "cell_type": "code",
   "execution_count": null,
   "id": "626268f7",
   "metadata": {},
   "outputs": [],
   "source": [
    "k = 4 #No of clusters\n",
    "d=2 #Dimension where the points live\n",
    "MU=np.zeros((k,d))\n",
    "MU[0,:]=[-DELTA,DELTA]\n",
    "MU[1,:]=[DELTA,DELTA]\n",
    "MU[2,:]=[DELTA,-DELTA]\n",
    "MU[3,:]=[-DELTA,-DELTA]\n",
    "I=np.identity(d)\n",
    "sigma_squared_list=[1,1,1,1]\n",
    "prob_list=[0.25,0.25,0.25,0.25]"
   ]
  },
  {
   "cell_type": "code",
   "execution_count": null,
   "id": "c268146f",
   "metadata": {},
   "outputs": [],
   "source": [
    "XI3=samplenonUnifMixdiffGauss(k,d,npoints,MU,I,sigma_squared_list,prob_list)"
   ]
  },
  {
   "cell_type": "code",
   "execution_count": null,
   "id": "ca1bb9d5",
   "metadata": {},
   "outputs": [],
   "source": [
    "#Here we calculate the k-means cost as a function of alpha.\n",
    "A=len(alpha_list)\n",
    "kMeansCost_I3_BL=np.zeros((A,N))\n",
    "kMeansCost_I3_AL=np.zeros((A,N))\n",
    "TimetoConv_I3=np.zeros((A,N))\n",
    "for a in range(A):\n",
    "    for m in range(N):\n",
    "        T= choosekCenters(XI3,alpha_list[a],k,d)\n",
    "        Old_Min_dist_center=assignclusterlabels(XI3,T,k,d)[1]\n",
    "        Old_Lab=assignclusterlabels(XI3,T,k,d)[0]\n",
    "        kMeansCost_I3_BL[a,m]=np.sum(Old_Min_dist_center) \n",
    "        FinLabels, Min_dist_center, TimetoConv_I3[a,m]= Lloydsuntilconv(XI3,Old_Lab,Old_Min_dist_center,k,MaxIter,d,epsilon)\n",
    "        kMeansCost_I3_AL[a,m]=np.sum(Min_dist_center) "
   ]
  },
  {
   "cell_type": "code",
   "execution_count": null,
   "id": "cb17337a",
   "metadata": {},
   "outputs": [],
   "source": [
    "#Find the average cost \n",
    "kMeansCost_I3_avg_AL=np.nanmean(kMeansCost_I3_AL,axis=1)\n",
    "kMeansCost_I3_avg_BL=np.nanmean(kMeansCost_I3_BL,axis=1)"
   ]
  },
  {
   "cell_type": "code",
   "execution_count": null,
   "id": "94d0ea18",
   "metadata": {},
   "outputs": [],
   "source": [
    "fig = plt.figure(dpi=100)\n",
    "ax  = fig.add_subplot(111)\n",
    "ax.plot(alpha_list, kMeansCost_I3_avg_BL, label=\"Without Lloyds\", c='b',linewidth=2.0, linestyle='solid')\n",
    "ax.plot(alpha_list, kMeansCost_I3_avg_AL, label=\"With Lloyds\", c='b',linewidth=2.0, linestyle='-.')\n",
    "\n",
    "plt.xlabel(r'$\\alpha$',fontsize=20)\n",
    "plt.ylabel('k-means cost',fontsize=20)\n",
    "plt.xticks(alpha_list)\n",
    "plt.legend()\n",
    "fig.savefig('I3withandwoLloyds.eps', format='eps',bbox_inches = \"tight\")\n",
    "plt.show()\n",
    "\n",
    "\n"
   ]
  },
  {
   "cell_type": "code",
   "execution_count": null,
   "id": "e438f6a1",
   "metadata": {},
   "outputs": [],
   "source": [
    "fig = plt.figure(dpi=100)\n",
    "ax  = fig.add_subplot(111)\n",
    "ax.plot(alpha_list, kMeansCost_I3_avg_BL, label=\"Without Lloyds\", c='b',linewidth=2.0, linestyle='solid')\n",
    "#ax.plot(alpha_list, kMeansCost_I1_avg_AL, label=\"With Lloyds\", c='b',linewidth=2.0, linestyle='-.')\n",
    "\n",
    "plt.xlabel(r'$\\alpha$',fontsize=20)\n",
    "plt.ylabel('k-means cost',fontsize=20)\n",
    "plt.xticks(alpha_list)\n",
    "fig.savefig('I3woLloyds.eps', format='eps',bbox_inches = \"tight\")\n",
    "plt.show()\n"
   ]
  },
  {
   "cell_type": "code",
   "execution_count": null,
   "id": "324a7de8",
   "metadata": {},
   "outputs": [],
   "source": [
    "k = 4 #No of clusters\n",
    "d=2 #Dimension where the points live\n",
    "MU=np.zeros((k,d))\n",
    "MU[0,:]=[-DELTA,DELTA]\n",
    "MU[1,:]=[DELTA,DELTA]\n",
    "MU[2,:]=[DELTA,-DELTA]\n",
    "MU[3,:]=[-DELTA,-DELTA]\n",
    "I=np.identity(d)\n",
    "sigma_squared_list=[400,1,1,1]\n",
    "prob_list=[0.25,0.25,0.25,0.25]"
   ]
  },
  {
   "cell_type": "code",
   "execution_count": null,
   "id": "429eea69",
   "metadata": {},
   "outputs": [],
   "source": [
    "XI4=samplenonUnifMixdiffGauss(k,d,npoints,MU,I,sigma_squared_list,prob_list)"
   ]
  },
  {
   "cell_type": "code",
   "execution_count": null,
   "id": "36677b42",
   "metadata": {},
   "outputs": [],
   "source": [
    "#Here we calculate the k-means cost as a function of alpha.\n",
    "A=len(alpha_list)\n",
    "kMeansCost_I4_BL=np.zeros((A,N))\n",
    "kMeansCost_I4_AL=np.zeros((A,N))\n",
    "TimetoConv_I4=np.zeros((A,N))\n",
    "for a in range(A):\n",
    "    for m in range(N):\n",
    "        T= choosekCenters(XI4,alpha_list[a],k,d)\n",
    "        Old_Min_dist_center=assignclusterlabels(XI4,T,k,d)[1]\n",
    "        Old_Lab=assignclusterlabels(XI4,T,k,d)[0]\n",
    "        kMeansCost_I4_BL[a,m]=np.sum(Old_Min_dist_center) \n",
    "        FinLabels, Min_dist_center, TimetoConv_I4[a,m]= Lloydsuntilconv(XI4,Old_Lab,Old_Min_dist_center,k,MaxIter,d,epsilon)\n",
    "        kMeansCost_I4_AL[a,m]=np.sum(Min_dist_center) "
   ]
  },
  {
   "cell_type": "code",
   "execution_count": null,
   "id": "82d9f102",
   "metadata": {},
   "outputs": [],
   "source": [
    "#Find the average cost \n",
    "kMeansCost_I4_avg_AL=np.nanmean(kMeansCost_I4_AL,axis=1)\n",
    "kMeansCost_I4_avg_BL=np.nanmean(kMeansCost_I4_BL,axis=1)"
   ]
  },
  {
   "cell_type": "code",
   "execution_count": null,
   "id": "775f0712",
   "metadata": {},
   "outputs": [],
   "source": [
    "fig = plt.figure(dpi=100)\n",
    "ax  = fig.add_subplot(111)\n",
    "ax.plot(alpha_list, kMeansCost_I4_avg_BL, label=\"Without Lloyds\", c='b',linewidth=2.0, linestyle='solid')\n",
    "ax.plot(alpha_list, kMeansCost_I4_avg_AL, label=\"With Lloyds\", c='b',linewidth=2.0, linestyle='-.')\n",
    "\n",
    "plt.xlabel(r'$\\alpha$',fontsize=20)\n",
    "plt.ylabel('k-means cost',fontsize=20)\n",
    "plt.xticks(alpha_list)\n",
    "plt.legend()\n",
    "fig.savefig('I4withandwoLloyds.eps', format='eps',bbox_inches = \"tight\")\n",
    "plt.show()\n",
    "\n",
    "\n",
    "\n",
    "\n"
   ]
  },
  {
   "cell_type": "code",
   "execution_count": null,
   "id": "6a603053",
   "metadata": {},
   "outputs": [],
   "source": [
    "fig = plt.figure(dpi=100)\n",
    "ax  = fig.add_subplot(111)\n",
    "ax.plot(alpha_list, kMeansCost_I4_avg_BL, label=\"Without Lloyds\", c='b',linewidth=2.0, linestyle='solid')\n",
    "#ax.plot(alpha_list, kMeansCost_I1_avg_AL, label=\"With Lloyds\", c='b',linewidth=2.0, linestyle='-.')\n",
    "\n",
    "plt.xlabel(r'$\\alpha$',fontsize=20)\n",
    "plt.ylabel('k-means cost',fontsize=20)\n",
    "plt.xticks(alpha_list)\n",
    "fig.savefig('I4woLloyds.eps', format='eps',bbox_inches = \"tight\")\n",
    "plt.show()"
   ]
  },
  {
   "cell_type": "markdown",
   "id": "58629eb1",
   "metadata": {},
   "source": [
    "### $I_5$"
   ]
  },
  {
   "cell_type": "code",
   "execution_count": null,
   "id": "30e756e0",
   "metadata": {},
   "outputs": [],
   "source": [
    "### Instances\n",
    "k = 8 #No of clusters\n",
    "d=3 #Dimension where the points live\n",
    "MU=np.zeros((k,d))\n",
    "MU[0,:]=[-DELTA,DELTA,DELTA]\n",
    "MU[1,:]=[-DELTA,DELTA,-DELTA]\n",
    "MU[2,:]=[DELTA,DELTA,DELTA]\n",
    "MU[3,:]=[DELTA,DELTA,-DELTA]\n",
    "MU[4,:]=[DELTA,-DELTA,DELTA]\n",
    "MU[5,:]=[DELTA,-DELTA,-DELTA]\n",
    "MU[6,:]=[-DELTA,-DELTA,DELTA]\n",
    "MU[7,:]=[-DELTA,-DELTA,-DELTA]\n",
    "I=np.identity(d)\n",
    "sigma_squared_list=[1,1,1,1,1,1,1,1]\n",
    "prob_list=[0.125,0.125,0.125,0.125,0.125,0.125,0.125,0.125]"
   ]
  },
  {
   "cell_type": "code",
   "execution_count": null,
   "id": "32b856f5",
   "metadata": {},
   "outputs": [],
   "source": [
    "XI5=samplenonUnifMixdiffGauss(k,d,npoints,MU,I,sigma_squared_list,prob_list)"
   ]
  },
  {
   "cell_type": "code",
   "execution_count": null,
   "id": "a48ea39c",
   "metadata": {},
   "outputs": [],
   "source": [
    "#Here we calculate the k-means cost as a function of alpha.\n",
    "A=len(alpha_list)\n",
    "kMeansCost_I5_BL=np.zeros((A,N))\n",
    "kMeansCost_I5_AL=np.zeros((A,N))\n",
    "TimetoConv_I5=np.zeros((A,N))\n",
    "for a in range(A):\n",
    "    for m in range(N):\n",
    "        T= choosekCenters(XI5,alpha_list[a],k,d)\n",
    "        Old_Min_dist_center=assignclusterlabels(XI5,T,k,d)[1]\n",
    "        Old_Lab=assignclusterlabels(XI5,T,k,d)[0]\n",
    "        kMeansCost_I5_BL[a,m]=np.sum(Old_Min_dist_center) \n",
    "        FinLabels, Min_dist_center, TimetoConv_I5[a,m]= Lloydsuntilconv(XI5,Old_Lab,Old_Min_dist_center,k,MaxIter,d,epsilon)\n",
    "        kMeansCost_I5_AL[a,m]=np.sum(Min_dist_center) "
   ]
  },
  {
   "cell_type": "code",
   "execution_count": null,
   "id": "7b844d9a",
   "metadata": {},
   "outputs": [],
   "source": [
    "#Find the average cost \n",
    "kMeansCost_I5_avg_AL=np.nanmean(kMeansCost_I5_AL,axis=1)\n",
    "kMeansCost_I5_avg_BL=np.nanmean(kMeansCost_I5_BL,axis=1)"
   ]
  },
  {
   "cell_type": "code",
   "execution_count": null,
   "id": "16eb6e81",
   "metadata": {},
   "outputs": [],
   "source": [
    "fig = plt.figure(dpi=100)\n",
    "ax  = fig.add_subplot(111)\n",
    "ax.plot(alpha_list, kMeansCost_I5_avg_BL, label=\"Without Lloyds\", c='b',linewidth=2.0, linestyle='solid')\n",
    "ax.plot(alpha_list, kMeansCost_I5_avg_AL, label=\"With Lloyds\", c='b',linewidth=2.0, linestyle='-.')\n",
    "\n",
    "plt.xlabel(r'$\\alpha$',fontsize=20)\n",
    "plt.ylabel('k-means cost',fontsize=20)\n",
    "plt.xticks(alpha_list)\n",
    "plt.legend()\n",
    "fig.savefig('I5withandwoLloyds.eps', format='eps',bbox_inches = \"tight\")\n",
    "plt.show()\n",
    "\n",
    "\n",
    "\n"
   ]
  },
  {
   "cell_type": "code",
   "execution_count": null,
   "id": "967375df",
   "metadata": {},
   "outputs": [],
   "source": [
    "fig = plt.figure(dpi=100)\n",
    "ax  = fig.add_subplot(111)\n",
    "ax.plot(alpha_list, kMeansCost_I5_avg_BL, label=\"Without Lloyds\", c='b',linewidth=2.0, linestyle='solid')\n",
    "#ax.plot(alpha_list, kMeansCost_I1_avg_AL, label=\"With Lloyds\", c='b',linewidth=2.0, linestyle='-.')\n",
    "\n",
    "plt.xlabel(r'$\\alpha$',fontsize=20)\n",
    "plt.ylabel('k-means cost',fontsize=20)\n",
    "plt.xticks(alpha_list)\n",
    "fig.savefig('I5woLloyds.eps', format='eps',bbox_inches = \"tight\")\n",
    "plt.show()"
   ]
  },
  {
   "cell_type": "markdown",
   "id": "a07c472d",
   "metadata": {},
   "source": [
    "### $I_6$"
   ]
  },
  {
   "cell_type": "code",
   "execution_count": null,
   "id": "a9754385",
   "metadata": {},
   "outputs": [],
   "source": [
    "### Instances\n",
    "k = 8 #No of clusters\n",
    "d=3 #Dimension where the points live\n",
    "MU=np.zeros((k,d))\n",
    "MU[0,:]=[-DELTA,DELTA,DELTA]\n",
    "MU[1,:]=[-DELTA,DELTA,-DELTA]\n",
    "MU[2,:]=[DELTA,DELTA,DELTA]\n",
    "MU[3,:]=[DELTA,DELTA,-DELTA]\n",
    "MU[4,:]=[DELTA,-DELTA,DELTA]\n",
    "MU[5,:]=[DELTA,-DELTA,-DELTA]\n",
    "MU[6,:]=[-DELTA,-DELTA,DELTA]\n",
    "MU[7,:]=[-DELTA,-DELTA,-DELTA]\n",
    "I=np.identity(d)\n",
    "sigma_squared_list=[800,1,1,1,1,1,1,1]\n",
    "prob_list=[0.125,0.125,0.125,0.125,0.125,0.125,0.125,0.125]"
   ]
  },
  {
   "cell_type": "code",
   "execution_count": null,
   "id": "d3e306e8",
   "metadata": {},
   "outputs": [],
   "source": [
    "XI6=samplenonUnifMixdiffGauss(k,d,npoints,MU,I,sigma_squared_list,prob_list)"
   ]
  },
  {
   "cell_type": "code",
   "execution_count": null,
   "id": "70b29db3",
   "metadata": {},
   "outputs": [],
   "source": [
    "#Here we calculate the k-means cost as a function of alpha.\n",
    "A=len(alpha_list)\n",
    "kMeansCost_I6_BL=np.zeros((A,N))\n",
    "kMeansCost_I6_AL=np.zeros((A,N))\n",
    "TimetoConv_I6=np.zeros((A,N))\n",
    "for a in range(A):\n",
    "    for m in range(N):\n",
    "        T= choosekCenters(XI6,alpha_list[a],k,d)\n",
    "        Old_Min_dist_center=assignclusterlabels(XI6,T,k,d)[1]\n",
    "        Old_Lab=assignclusterlabels(XI6,T,k,d)[0]\n",
    "        kMeansCost_I6_BL[a,m]=np.sum(Old_Min_dist_center) \n",
    "        FinLabels, Min_dist_center, TimetoConv_I6[a,m]= Lloydsuntilconv(XI6,Old_Lab,Old_Min_dist_center,k,MaxIter,d,epsilon)\n",
    "        kMeansCost_I6_AL[a,m]=np.sum(Min_dist_center) "
   ]
  },
  {
   "cell_type": "code",
   "execution_count": null,
   "id": "32ca68c3",
   "metadata": {},
   "outputs": [],
   "source": [
    "#Find the average cost \n",
    "kMeansCost_I6_avg_AL=np.nanmean(kMeansCost_I6_AL,axis=1)\n",
    "kMeansCost_I6_avg_BL=np.nanmean(kMeansCost_I6_BL,axis=1)"
   ]
  },
  {
   "cell_type": "code",
   "execution_count": null,
   "id": "4ed78e36",
   "metadata": {},
   "outputs": [],
   "source": [
    "fig = plt.figure(dpi=100)\n",
    "ax  = fig.add_subplot(111)\n",
    "ax.plot(alpha_list, kMeansCost_I6_avg_BL, label=\"Without Lloyds\", c='b',linewidth=2.0, linestyle='solid')\n",
    "ax.plot(alpha_list, kMeansCost_I6_avg_AL, label=\"With Lloyds\", c='b',linewidth=2.0, linestyle='-.')\n",
    "\n",
    "plt.xlabel(r'$\\alpha$',fontsize=20)\n",
    "plt.ylabel('k-means cost',fontsize=20)\n",
    "plt.xticks(alpha_list)\n",
    "plt.legend()\n",
    "fig.savefig('I6withandwoLloyds.eps', format='eps',bbox_inches = \"tight\")\n",
    "plt.show()\n",
    "\n",
    "\n",
    "\n"
   ]
  },
  {
   "cell_type": "code",
   "execution_count": null,
   "id": "24b8baef",
   "metadata": {},
   "outputs": [],
   "source": [
    "fig = plt.figure(dpi=100)\n",
    "ax  = fig.add_subplot(111)\n",
    "ax.plot(alpha_list, kMeansCost_I6_avg_BL, label=\"Without Lloyds\", c='b',linewidth=2.0, linestyle='solid')\n",
    "#ax.plot(alpha_list, kMeansCost_I1_avg_AL, label=\"With Lloyds\", c='b',linewidth=2.0, linestyle='-.')\n",
    "\n",
    "plt.xlabel(r'$\\alpha$',fontsize=20)\n",
    "plt.ylabel('k-means cost',fontsize=20)\n",
    "plt.xticks(alpha_list)\n",
    "fig.savefig('I6woLloyds.eps', format='eps',bbox_inches = \"tight\")\n",
    "plt.show()"
   ]
  },
  {
   "cell_type": "markdown",
   "id": "aef99a8d",
   "metadata": {},
   "source": [
    "### $I_7$"
   ]
  },
  {
   "cell_type": "markdown",
   "id": "c9fce4c3",
   "metadata": {},
   "source": [
    "#### $I_{7a}$"
   ]
  },
  {
   "cell_type": "code",
   "execution_count": null,
   "id": "7a90799d",
   "metadata": {},
   "outputs": [],
   "source": [
    "k = 4 #No of clusters\n",
    "d=2 #Dimension where the points live\n",
    "MU=np.zeros((k,d))\n",
    "MU[0,:]=[-DELTA,DELTA]\n",
    "MU[1,:]=[DELTA,DELTA]\n",
    "MU[2,:]=[DELTA,-DELTA]\n",
    "MU[3,:]=[-DELTA,-DELTA]\n",
    "I=np.identity(d)\n",
    "sigma_squared_list=[1,1,1,1]\n",
    "df=1.6\n",
    "\n",
    "XI7a=sampleMixStudentt(k,d,npoints,MU,I,sigma_squared_list,df)\n",
    "\n",
    "#Here we calculate the k-means cost as a function of alpha.\n",
    "\n",
    "\n",
    "A=len(alpha_list)\n",
    "kMeansCost_I7a_BL=np.zeros((A,N))\n",
    "kMeansCost_I7a_AL=np.zeros((A,N))\n",
    "TimetoConv_I7a=np.zeros((A,N))\n",
    "\n",
    "for a in range(A):\n",
    "    for m in range(N):\n",
    "        T= choosekCenters(XI7a,alpha_list[a],k,d)\n",
    "        Old_Min_dist_center=assignclusterlabels(XI7a,T,k,d)[1]\n",
    "        Old_Lab=assignclusterlabels(XI7a,T,k,d)[0]\n",
    "        kMeansCost_I7a_BL[a,m]=np.sum(Old_Min_dist_center) \n",
    "        FinLabels, Min_dist_center, TimetoConv_I7a[a,m]= Lloydsuntilconv(XI7a,Old_Lab,Old_Min_dist_center,k,MaxIter,d,epsilon)\n",
    "        kMeansCost_I7a_AL[a,m]=np.sum(Min_dist_center) \n",
    "        \n",
    "#Find the average cost \n",
    "kMeansCost_I7a_avg_AL=np.nanmean(kMeansCost_I7a_AL,axis=1)\n",
    "kMeansCost_I7a_avg_BL=np.nanmean(kMeansCost_I7a_BL,axis=1)\n",
    "TimetoConv_I7a_avg=np.nanmean(TimetoConv_I7a,axis=1)\n"
   ]
  },
  {
   "cell_type": "markdown",
   "id": "83ca2095",
   "metadata": {},
   "source": [
    "#### $I_{7b}$"
   ]
  },
  {
   "cell_type": "code",
   "execution_count": null,
   "id": "dca2ed47",
   "metadata": {},
   "outputs": [],
   "source": [
    "k = 4 #No of clusters\n",
    "d=2 #Dimension where the points live\n",
    "MU=np.zeros((k,d))\n",
    "MU[0,:]=[-DELTA,DELTA]\n",
    "MU[1,:]=[DELTA,DELTA]\n",
    "MU[2,:]=[DELTA,-DELTA]\n",
    "MU[3,:]=[-DELTA,-DELTA]\n",
    "I=np.identity(d)\n",
    "sigma_squared_list=[1,1,1,1]\n",
    "df=2\n",
    "\n",
    "XI7b=sampleMixStudentt(k,d,npoints,MU,I,sigma_squared_list,df)\n",
    "\n",
    "#Here we calculate the k-means cost as a function of alpha.\n",
    "\n",
    "\n",
    "A=len(alpha_list)\n",
    "kMeansCost_I7b_BL=np.zeros((A,N))\n",
    "kMeansCost_I7b_AL=np.zeros((A,N))\n",
    "TimetoConv_I7b=np.zeros((A,N))\n",
    "\n",
    "for a in range(A):\n",
    "    for m in range(N):\n",
    "        T= choosekCenters(XI7b,alpha_list[a],k,d)\n",
    "        Old_Min_dist_center=assignclusterlabels(XI7b,T,k,d)[1]\n",
    "        Old_Lab=assignclusterlabels(XI7b,T,k,d)[0]\n",
    "        kMeansCost_I7b_BL[a,m]=np.sum(Old_Min_dist_center) \n",
    "        FinLabels, Min_dist_center, TimetoConv_I7b[a,m]= Lloydsuntilconv(XI7b,Old_Lab,Old_Min_dist_center,k,MaxIter,d,epsilon)\n",
    "        kMeansCost_I7b_AL[a,m]=np.sum(Min_dist_center) \n",
    "        \n",
    "#Find the average cost \n",
    "kMeansCost_I7b_avg_AL=np.nanmean(kMeansCost_I7b_AL,axis=1)\n",
    "kMeansCost_I7b_avg_BL=np.nanmean(kMeansCost_I7b_BL,axis=1)\n",
    "TimetoConv_I7b_avg=np.nanmean(TimetoConv_I7b,axis=1)\n"
   ]
  },
  {
   "cell_type": "markdown",
   "id": "7b8b2ab8",
   "metadata": {},
   "source": [
    "#### $I_{7c}$"
   ]
  },
  {
   "cell_type": "code",
   "execution_count": null,
   "id": "71e321a4",
   "metadata": {},
   "outputs": [],
   "source": [
    "k = 4 #No of clusters\n",
    "d=2 #Dimension where the points live\n",
    "MU=np.zeros((k,d))\n",
    "MU[0,:]=[-DELTA,DELTA]\n",
    "MU[1,:]=[DELTA,DELTA]\n",
    "MU[2,:]=[DELTA,-DELTA]\n",
    "MU[3,:]=[-DELTA,-DELTA]\n",
    "I=np.identity(d)\n",
    "sigma_squared_list=[1,1,1,1]\n",
    "df=5\n",
    "\n",
    "XI7c=sampleMixStudentt(k,d,npoints,MU,I,sigma_squared_list,df)\n",
    "\n",
    "#Here we calculate the k-means cost as a function of alpha.\n",
    "\n",
    "\n",
    "A=len(alpha_list)\n",
    "kMeansCost_I7c_BL=np.zeros((A,N))\n",
    "kMeansCost_I7c_AL=np.zeros((A,N))\n",
    "TimetoConv_I7c=np.zeros((A,N))\n",
    "\n",
    "for a in range(A):\n",
    "    for m in range(N):\n",
    "        T= choosekCenters(XI7c,alpha_list[a],k,d)\n",
    "        Old_Min_dist_center=assignclusterlabels(XI7c,T,k,d)[1]\n",
    "        Old_Lab=assignclusterlabels(XI7c,T,k,d)[0]\n",
    "        kMeansCost_I7c_BL[a,m]=np.sum(Old_Min_dist_center) \n",
    "        FinLabels, Min_dist_center, TimetoConv_I7c[a,m]= Lloydsuntilconv(XI7c,Old_Lab,Old_Min_dist_center,k,MaxIter,d,epsilon)\n",
    "        kMeansCost_I7c_AL[a,m]=np.sum(Min_dist_center) \n",
    "        \n",
    "#Find the average cost \n",
    "kMeansCost_I7c_avg_AL=np.nanmean(kMeansCost_I7c_AL,axis=1)\n",
    "kMeansCost_I7c_avg_BL=np.nanmean(kMeansCost_I7c_BL,axis=1)\n",
    "TimetoConv_I7c_avg=np.nanmean(TimetoConv_I7c,axis=1)\n"
   ]
  },
  {
   "cell_type": "markdown",
   "id": "cfcc4265",
   "metadata": {},
   "source": [
    "#### $I_{7d}$"
   ]
  },
  {
   "cell_type": "code",
   "execution_count": null,
   "id": "b2d4b4e8",
   "metadata": {},
   "outputs": [],
   "source": [
    "k = 4 #No of clusters\n",
    "d=2 #Dimension where the points live\n",
    "MU=np.zeros((k,d))\n",
    "MU[0,:]=[-DELTA,DELTA]\n",
    "MU[1,:]=[DELTA,DELTA]\n",
    "MU[2,:]=[DELTA,-DELTA]\n",
    "MU[3,:]=[-DELTA,-DELTA]\n",
    "I=np.identity(d)\n",
    "sigma_squared_list=[1,1,1,1]\n",
    "df=10\n",
    "\n",
    "XI7d=sampleMixStudentt(k,d,npoints,MU,I,sigma_squared_list,df)\n",
    "\n",
    "#Here we calculate the k-means cost as a function of alpha.\n",
    "\n",
    "A=len(alpha_list)\n",
    "kMeansCost_I7d_BL=np.zeros((A,N))\n",
    "kMeansCost_I7d_AL=np.zeros((A,N))\n",
    "TimetoConv_I7d=np.zeros((A,N))\n",
    "\n",
    "for a in range(A):\n",
    "    for m in range(N):\n",
    "        T= choosekCenters(XI7d,alpha_list[a],k,d)\n",
    "        Old_Min_dist_center=assignclusterlabels(XI7d,T,k,d)[1]\n",
    "        Old_Lab=assignclusterlabels(XI7d,T,k,d)[0]\n",
    "        kMeansCost_I7d_BL[a,m]=np.sum(Old_Min_dist_center) \n",
    "        FinLabels, Min_dist_center, TimetoConv_I7d[a,m]= Lloydsuntilconv(XI7d,Old_Lab,Old_Min_dist_center,k,MaxIter,d,epsilon)\n",
    "        kMeansCost_I7d_AL[a,m]=np.sum(Min_dist_center) \n",
    "        \n",
    "#Find the average cost \n",
    "kMeansCost_I7d_avg_AL=np.nanmean(kMeansCost_I7d_AL,axis=1)\n",
    "kMeansCost_I7d_avg_BL=np.nanmean(kMeansCost_I7d_BL,axis=1)\n",
    "TimetoConv_I7d_avg=np.nanmean(TimetoConv_I7d,axis=1)\n"
   ]
  },
  {
   "cell_type": "markdown",
   "id": "83ade098",
   "metadata": {},
   "source": [
    "### Plot of all Student-t distributions together"
   ]
  },
  {
   "cell_type": "code",
   "execution_count": null,
   "id": "738ede4c",
   "metadata": {},
   "outputs": [],
   "source": [
    "fig = plt.figure(dpi=100)\n",
    "ax  = fig.add_subplot(111)\n",
    "ax.plot(alpha_list, kMeansCost_I7a_avg_BL, c='r', label='df=1.6', linewidth=2.0)\n",
    "ax.plot(alpha_list, kMeansCost_I7b_avg_BL, c='g', label='df=2', linewidth=2.0)\n",
    "ax.plot(alpha_list, kMeansCost_I7c_avg_BL, c='b', label='df=5', linewidth=2.0)\n",
    "ax.plot(alpha_list, kMeansCost_I7d_avg_BL, c='k', label='df=10', linewidth=2.0)\n",
    "\n",
    "\n",
    "plt.xlabel(r'$\\alpha$',fontsize=20)\n",
    "plt.ylabel('k-means cost',fontsize=20)\n",
    "plt.xticks(alpha_list)\n",
    "plt.legend()\n",
    "fig.savefig('I7woLloyds.eps', format='eps',bbox_inches = \"tight\")\n",
    "plt.show()"
   ]
  },
  {
   "cell_type": "code",
   "execution_count": null,
   "id": "5d0954fe",
   "metadata": {},
   "outputs": [],
   "source": [
    "fig = plt.figure(dpi=100)\n",
    "ax  = fig.add_subplot(111)\n",
    "ax.plot(alpha_list, kMeansCost_I7a_avg_AL, c='r', label='df=1.6', linewidth=2.0)\n",
    "ax.plot(alpha_list, kMeansCost_I7b_avg_AL, c='g', label='df=2', linewidth=2.0)\n",
    "ax.plot(alpha_list, kMeansCost_I7c_avg_AL, c='b', label='df=5', linewidth=2.0)\n",
    "ax.plot(alpha_list, kMeansCost_I7d_avg_AL, c='k', label='df=10', linewidth=2.0)\n",
    "\n",
    "\n",
    "plt.xlabel(r'$\\alpha$',fontsize=20)\n",
    "plt.ylabel('k-means cost',fontsize=20)\n",
    "plt.xticks(alpha_list)\n",
    "plt.legend()\n",
    "fig.savefig('I7withLloyds.eps', format='eps',bbox_inches = \"tight\")\n",
    "plt.show()"
   ]
  },
  {
   "cell_type": "markdown",
   "id": "02a90454",
   "metadata": {},
   "source": [
    "#### Lloyds Convergence time for Student-t distributions"
   ]
  },
  {
   "cell_type": "code",
   "execution_count": null,
   "id": "61b71ae1",
   "metadata": {},
   "outputs": [],
   "source": [
    "fig = plt.figure(dpi=100)\n",
    "ax  = fig.add_subplot(111)\n",
    "\n",
    "ax.plot(alpha_list, TimetoConv_I7a_avg, c='r', label='df=1.6', linewidth=2.0)\n",
    "ax.plot(alpha_list, TimetoConv_I7b_avg, c='g', label='df=2', linewidth=2.0)\n",
    "ax.plot(alpha_list, TimetoConv_I7c_avg, c='b', label='df=5', linewidth=2.0)\n",
    "ax.plot(alpha_list, TimetoConv_I7d_avg, c='k', label='df=10', linewidth=2.0)\n",
    "\n",
    "\n",
    "plt.xlabel(r'$\\alpha$',fontsize=20)\n",
    "plt.ylabel('Lloyds Steps',fontsize=20)\n",
    "plt.xticks(alpha_list)\n",
    "plt.legend()\n",
    "fig.savefig('I7timetoconv.eps', format='eps',bbox_inches = \"tight\")\n",
    "plt.show()"
   ]
  },
  {
   "cell_type": "code",
   "execution_count": null,
   "id": "eedeb547",
   "metadata": {},
   "outputs": [],
   "source": [
    "Z1=sp.stats.t(df=1.6)\n",
    "Z2=sp.stats.t(df=2)\n",
    "Z3=sp.stats.t(df=5)\n",
    "Z4=sp.stats.t(df=10)\n",
    "Z5=sp.stats.norm()\n",
    "x=np.linspace(-4,4,100)"
   ]
  },
  {
   "cell_type": "code",
   "execution_count": null,
   "id": "c8611f07",
   "metadata": {},
   "outputs": [],
   "source": [
    "fig = plt.figure(dpi=100)\n",
    "ax  = fig.add_subplot(111)\n",
    "\n",
    "ax.plot(x, Z1.pdf(x), c='r', label='df=1.6', linewidth=2.0)\n",
    "ax.plot(x, Z2.pdf(x), c='g', label='df=2', linewidth=2.0)\n",
    "ax.plot(x, Z3.pdf(x), c='b', label='df=5', linewidth=2.0)\n",
    "ax.plot(x, Z4.pdf(x), c='k', label='df=10', linewidth=2.0)\n",
    "ax.plot(x, Z5.pdf(x), c='y', label='standard normal', linewidth=2.0)\n",
    "\n",
    "\n",
    "plt.xlabel('x',fontsize=20)\n",
    "plt.ylabel('density',fontsize=20)\n",
    "plt.legend()\n",
    "fig.savefig('Studenttwithdf.eps', format='eps',bbox_inches = \"tight\")\n",
    "plt.show()"
   ]
  }
 ],
 "metadata": {
  "kernelspec": {
   "display_name": "Python 3 (ipykernel)",
   "language": "python",
   "name": "python3"
  },
  "language_info": {
   "codemirror_mode": {
    "name": "ipython",
    "version": 3
   },
   "file_extension": ".py",
   "mimetype": "text/x-python",
   "name": "python",
   "nbconvert_exporter": "python",
   "pygments_lexer": "ipython3",
   "version": "3.11.3"
  }
 },
 "nbformat": 4,
 "nbformat_minor": 5
}
